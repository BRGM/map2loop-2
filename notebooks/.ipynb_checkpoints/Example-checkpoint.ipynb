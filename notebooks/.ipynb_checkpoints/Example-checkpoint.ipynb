{
 "cells": [
  {
   "cell_type": "code",
   "execution_count": null,
   "metadata": {
    "scrolled": false
   },
   "outputs": [],
   "source": [
    "from map2loop.project import Project\n",
    "\n",
    "proj = Project( geology_file=\"data/hams-test.shp\",\n",
    "                 fault_file=\"Turner_Syncline/tmp/GEOS_GEOLOGY_LINEARSTRUCTURE_500K_GSD.csv\",\n",
    "                 structure_file=\"data/hams2_structure.shp\",\n",
    "                 mindep_file=\"data/mindeps_2018.shp\")\n",
    "\n",
    "proj.update_config(bbox_3d={\n",
    "                         \"minx\": 500057,\n",
    "                         \"miny\": 7455348,\n",
    "                         \"maxx\": 603028,\n",
    "                         \"maxy\": 7567953,\n",
    "                         \"base\": -8200,\n",
    "                         \"top\": 1200,\n",
    "                     },\n",
    "                     step_out=0.1\n",
    "                  )\n",
    "\n",
    "proj.run()"
   ]
  },
  {
   "cell_type": "code",
   "execution_count": null,
   "metadata": {},
   "outputs": [],
   "source": []
  },
  {
   "cell_type": "code",
   "execution_count": null,
   "metadata": {},
   "outputs": [],
   "source": []
  }
 ],
 "metadata": {
  "kernelspec": {
   "display_name": "Python 3",
   "language": "python",
   "name": "python3"
  },
  "language_info": {
   "codemirror_mode": {
    "name": "ipython",
    "version": 3
   },
   "file_extension": ".py",
   "mimetype": "text/x-python",
   "name": "python",
   "nbconvert_exporter": "python",
   "pygments_lexer": "ipython3",
   "version": "3.7.7"
  }
 },
 "nbformat": 4,
 "nbformat_minor": 4
}
